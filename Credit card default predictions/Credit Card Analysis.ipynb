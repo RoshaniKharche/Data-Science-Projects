{
 "cells": [
  {
   "cell_type": "code",
   "execution_count": 1,
   "metadata": {
    "scrolled": true
   },
   "outputs": [],
   "source": [
    "# @author Roshani Kharche\n",
    "\n",
    "# enable inline plotting with matplotbib and seaborn\n",
    "%matplotlib inline\n",
    "\n",
    "import os \n",
    "import time\n",
    "import numpy as np\n",
    "import pylab as pl\n",
    "import pandas as pd\n",
    "import matplotlib.pyplot as plt\n",
    "import seaborn as sns; sns.set(style=\"ticks\", color_codes=True)\n",
    "#import pydotplus \n",
    "\n",
    "#from IPython.display import Image  \n",
    "#from collections import defaultdict\n",
    "from sklearn import svm, tree\n",
    "#from sklearn.tree import export_graphviz\n",
    "from sklearn.model_selection import train_test_split, cross_val_score, GridSearchCV\n",
    "from sklearn.preprocessing import StandardScaler, MinMaxScaler\n",
    "from sklearn.metrics import classification_report,confusion_matrix, roc_curve, auc\n",
    "\n",
    "from sklearn.neighbors import KNeighborsClassifier\n",
    "from sklearn.ensemble import RandomForestClassifier\n",
    "from sklearn.feature_selection import RFE, SelectKBest, chi2, SelectFromModel\n",
    "from sklearn.linear_model import LogisticRegression\n",
    "from imblearn.over_sampling import SMOTE"
   ]
  },
  {
   "cell_type": "code",
   "execution_count": 2,
   "metadata": {},
   "outputs": [
    {
     "name": "stdout",
     "output_type": "stream",
     "text": [
      "(1000, 21)\n",
      "Index(['existingchecking', 'duration', 'credithistory', 'purpose',\n",
      "       'creditamount', 'savings', 'employmentsince', 'installmentrate',\n",
      "       'statussex', 'otherdebtors', 'residencesince', 'property', 'age',\n",
      "       'otherinstallmentplans', 'housing', 'existingcredits', 'job',\n",
      "       'peopleliable', 'telephone', 'foreignworker', 'Defaulter_NonDefaulter'],\n",
      "      dtype='object')\n"
     ]
    }
   ],
   "source": [
    "### Import the dataset\n",
    "\n",
    "colnames = ['existingchecking', 'duration', 'credithistory', 'purpose', \n",
    "            'creditamount', 'savings', 'employmentsince', 'installmentrate', \n",
    "            'statussex', 'otherdebtors', 'residencesince', 'property', 'age', \n",
    "            'otherinstallmentplans', 'housing', 'existingcredits', 'job',\n",
    "            'peopleliable', 'telephone', 'foreignworker', \n",
    "            'Defaulter_NonDefaulter']\n",
    "\n",
    "credit_card = pd.read_csv(r\".\\Data\\german_credit.csv\",delimiter=',',names=colnames)\n",
    "\n",
    "\n",
    "print(credit_card.shape)\n",
    "print(credit_card.columns)"
   ]
  },
  {
   "cell_type": "code",
   "execution_count": 3,
   "metadata": {},
   "outputs": [
    {
     "data": {
      "text/html": [
       "<div>\n",
       "<style scoped>\n",
       "    .dataframe tbody tr th:only-of-type {\n",
       "        vertical-align: middle;\n",
       "    }\n",
       "\n",
       "    .dataframe tbody tr th {\n",
       "        vertical-align: top;\n",
       "    }\n",
       "\n",
       "    .dataframe thead th {\n",
       "        text-align: right;\n",
       "    }\n",
       "</style>\n",
       "<table border=\"1\" class=\"dataframe\">\n",
       "  <thead>\n",
       "    <tr style=\"text-align: right;\">\n",
       "      <th></th>\n",
       "      <th>existingchecking</th>\n",
       "      <th>duration</th>\n",
       "      <th>credithistory</th>\n",
       "      <th>purpose</th>\n",
       "      <th>creditamount</th>\n",
       "      <th>savings</th>\n",
       "      <th>employmentsince</th>\n",
       "      <th>installmentrate</th>\n",
       "      <th>statussex</th>\n",
       "      <th>otherdebtors</th>\n",
       "      <th>...</th>\n",
       "      <th>property</th>\n",
       "      <th>age</th>\n",
       "      <th>otherinstallmentplans</th>\n",
       "      <th>housing</th>\n",
       "      <th>existingcredits</th>\n",
       "      <th>job</th>\n",
       "      <th>peopleliable</th>\n",
       "      <th>telephone</th>\n",
       "      <th>foreignworker</th>\n",
       "      <th>Defaulter_NonDefaulter</th>\n",
       "    </tr>\n",
       "  </thead>\n",
       "  <tbody>\n",
       "    <tr>\n",
       "      <th>0</th>\n",
       "      <td>A11</td>\n",
       "      <td>6</td>\n",
       "      <td>A34</td>\n",
       "      <td>A43</td>\n",
       "      <td>1169.0</td>\n",
       "      <td>A65</td>\n",
       "      <td>A75</td>\n",
       "      <td>4</td>\n",
       "      <td>A93</td>\n",
       "      <td>A101</td>\n",
       "      <td>...</td>\n",
       "      <td>A121</td>\n",
       "      <td>67.0</td>\n",
       "      <td>A143</td>\n",
       "      <td>A152</td>\n",
       "      <td>2</td>\n",
       "      <td>A173</td>\n",
       "      <td>1</td>\n",
       "      <td>A192</td>\n",
       "      <td>A201</td>\n",
       "      <td>1</td>\n",
       "    </tr>\n",
       "    <tr>\n",
       "      <th>1</th>\n",
       "      <td>A12</td>\n",
       "      <td>48</td>\n",
       "      <td>A32</td>\n",
       "      <td>A43</td>\n",
       "      <td>5951.0</td>\n",
       "      <td>A61</td>\n",
       "      <td>A73</td>\n",
       "      <td>2</td>\n",
       "      <td>A92</td>\n",
       "      <td>A101</td>\n",
       "      <td>...</td>\n",
       "      <td>A121</td>\n",
       "      <td>22.0</td>\n",
       "      <td>A143</td>\n",
       "      <td>A152</td>\n",
       "      <td>1</td>\n",
       "      <td>A173</td>\n",
       "      <td>1</td>\n",
       "      <td>A191</td>\n",
       "      <td>A201</td>\n",
       "      <td>2</td>\n",
       "    </tr>\n",
       "    <tr>\n",
       "      <th>2</th>\n",
       "      <td>A14</td>\n",
       "      <td>12</td>\n",
       "      <td>A34</td>\n",
       "      <td>A46</td>\n",
       "      <td>2096.0</td>\n",
       "      <td>A61</td>\n",
       "      <td>A74</td>\n",
       "      <td>2</td>\n",
       "      <td>A93</td>\n",
       "      <td>A101</td>\n",
       "      <td>...</td>\n",
       "      <td>A121</td>\n",
       "      <td>49.0</td>\n",
       "      <td>A143</td>\n",
       "      <td>A152</td>\n",
       "      <td>1</td>\n",
       "      <td>A172</td>\n",
       "      <td>2</td>\n",
       "      <td>A191</td>\n",
       "      <td>A201</td>\n",
       "      <td>1</td>\n",
       "    </tr>\n",
       "    <tr>\n",
       "      <th>3</th>\n",
       "      <td>A11</td>\n",
       "      <td>42</td>\n",
       "      <td>A32</td>\n",
       "      <td>A42</td>\n",
       "      <td>7882.0</td>\n",
       "      <td>A61</td>\n",
       "      <td>A74</td>\n",
       "      <td>2</td>\n",
       "      <td>A93</td>\n",
       "      <td>A103</td>\n",
       "      <td>...</td>\n",
       "      <td>A122</td>\n",
       "      <td>45.0</td>\n",
       "      <td>A143</td>\n",
       "      <td>A153</td>\n",
       "      <td>1</td>\n",
       "      <td>A173</td>\n",
       "      <td>2</td>\n",
       "      <td>A191</td>\n",
       "      <td>A201</td>\n",
       "      <td>1</td>\n",
       "    </tr>\n",
       "    <tr>\n",
       "      <th>4</th>\n",
       "      <td>A11</td>\n",
       "      <td>24</td>\n",
       "      <td>A33</td>\n",
       "      <td>A40</td>\n",
       "      <td>4870.0</td>\n",
       "      <td>A61</td>\n",
       "      <td>A73</td>\n",
       "      <td>3</td>\n",
       "      <td>A93</td>\n",
       "      <td>A101</td>\n",
       "      <td>...</td>\n",
       "      <td>A124</td>\n",
       "      <td>53.0</td>\n",
       "      <td>A143</td>\n",
       "      <td>A153</td>\n",
       "      <td>2</td>\n",
       "      <td>A173</td>\n",
       "      <td>2</td>\n",
       "      <td>A191</td>\n",
       "      <td>A201</td>\n",
       "      <td>2</td>\n",
       "    </tr>\n",
       "  </tbody>\n",
       "</table>\n",
       "<p>5 rows × 21 columns</p>\n",
       "</div>"
      ],
      "text/plain": [
       "  existingchecking  duration credithistory purpose  creditamount savings  \\\n",
       "0              A11         6           A34     A43        1169.0     A65   \n",
       "1              A12        48           A32     A43        5951.0     A61   \n",
       "2              A14        12           A34     A46        2096.0     A61   \n",
       "3              A11        42           A32     A42        7882.0     A61   \n",
       "4              A11        24           A33     A40        4870.0     A61   \n",
       "\n",
       "  employmentsince  installmentrate statussex otherdebtors  ...  property  \\\n",
       "0             A75                4       A93         A101  ...      A121   \n",
       "1             A73                2       A92         A101  ...      A121   \n",
       "2             A74                2       A93         A101  ...      A121   \n",
       "3             A74                2       A93         A103  ...      A122   \n",
       "4             A73                3       A93         A101  ...      A124   \n",
       "\n",
       "    age  otherinstallmentplans housing existingcredits   job peopleliable  \\\n",
       "0  67.0                   A143    A152               2  A173            1   \n",
       "1  22.0                   A143    A152               1  A173            1   \n",
       "2  49.0                   A143    A152               1  A172            2   \n",
       "3  45.0                   A143    A153               1  A173            2   \n",
       "4  53.0                   A143    A153               2  A173            2   \n",
       "\n",
       "   telephone foreignworker Defaulter_NonDefaulter  \n",
       "0       A192          A201                      1  \n",
       "1       A191          A201                      2  \n",
       "2       A191          A201                      1  \n",
       "3       A191          A201                      1  \n",
       "4       A191          A201                      2  \n",
       "\n",
       "[5 rows x 21 columns]"
      ]
     },
     "execution_count": 3,
     "metadata": {},
     "output_type": "execute_result"
    }
   ],
   "source": [
    "credit_card.head()"
   ]
  },
  {
   "cell_type": "code",
   "execution_count": 4,
   "metadata": {
    "scrolled": true
   },
   "outputs": [
    {
     "name": "stdout",
     "output_type": "stream",
     "text": [
      "<class 'pandas.core.frame.DataFrame'>\n",
      "RangeIndex: 1000 entries, 0 to 999\n",
      "Data columns (total 21 columns):\n",
      " #   Column                  Non-Null Count  Dtype  \n",
      "---  ------                  --------------  -----  \n",
      " 0   existingchecking        1000 non-null   object \n",
      " 1   duration                1000 non-null   int64  \n",
      " 2   credithistory           1000 non-null   object \n",
      " 3   purpose                 1000 non-null   object \n",
      " 4   creditamount            997 non-null    float64\n",
      " 5   savings                 1000 non-null   object \n",
      " 6   employmentsince         998 non-null    object \n",
      " 7   installmentrate         1000 non-null   int64  \n",
      " 8   statussex               1000 non-null   object \n",
      " 9   otherdebtors            1000 non-null   object \n",
      " 10  residencesince          1000 non-null   int64  \n",
      " 11  property                1000 non-null   object \n",
      " 12  age                     997 non-null    float64\n",
      " 13  otherinstallmentplans   1000 non-null   object \n",
      " 14  housing                 1000 non-null   object \n",
      " 15  existingcredits         1000 non-null   int64  \n",
      " 16  job                     1000 non-null   object \n",
      " 17  peopleliable            1000 non-null   int64  \n",
      " 18  telephone               1000 non-null   object \n",
      " 19  foreignworker           998 non-null    object \n",
      " 20  Defaulter_NonDefaulter  1000 non-null   int64  \n",
      "dtypes: float64(2), int64(6), object(13)\n",
      "memory usage: 164.2+ KB\n"
     ]
    }
   ],
   "source": [
    "credit_card.info()"
   ]
  },
  {
   "cell_type": "code",
   "execution_count": 5,
   "metadata": {},
   "outputs": [],
   "source": [
    "def missing_val_imput(dataset,col):\n",
    "    dataset.loc[dataset[col].isnull(),col] = dataset[col].median()\n",
    "    print(\"Missing value imputaion for {} done\".format(col))\n",
    "    return"
   ]
  },
  {
   "cell_type": "code",
   "execution_count": 6,
   "metadata": {},
   "outputs": [
    {
     "name": "stdout",
     "output_type": "stream",
     "text": [
      "Missing value imputaion for age done\n"
     ]
    }
   ],
   "source": [
    "missing_val_imput(credit_card,\"age\")"
   ]
  },
  {
   "cell_type": "code",
   "execution_count": 7,
   "metadata": {
    "scrolled": true
   },
   "outputs": [
    {
     "name": "stdout",
     "output_type": "stream",
     "text": [
      "Missing value imputaion for creditamount done\n"
     ]
    }
   ],
   "source": [
    "missing_val_imput(credit_card,\"creditamount\")"
   ]
  },
  {
   "cell_type": "code",
   "execution_count": 8,
   "metadata": {},
   "outputs": [],
   "source": [
    "def missing_val_imput_cat(dataset,col):\n",
    "    dataset.loc[dataset[col].isnull(),col] = dataset[col].mode()[0]\n",
    "    print(\"Missing value imputaion for {} done\".format(col))\n",
    "    return"
   ]
  },
  {
   "cell_type": "code",
   "execution_count": 9,
   "metadata": {},
   "outputs": [
    {
     "name": "stdout",
     "output_type": "stream",
     "text": [
      "Missing value imputaion for employmentsince done\n"
     ]
    }
   ],
   "source": [
    "missing_val_imput_cat(credit_card,\"employmentsince\")"
   ]
  },
  {
   "cell_type": "code",
   "execution_count": 10,
   "metadata": {},
   "outputs": [
    {
     "name": "stdout",
     "output_type": "stream",
     "text": [
      "Missing value imputaion for foreignworker done\n"
     ]
    }
   ],
   "source": [
    "missing_val_imput_cat(credit_card,\"foreignworker\")"
   ]
  },
  {
   "cell_type": "code",
   "execution_count": 11,
   "metadata": {
    "scrolled": true
   },
   "outputs": [
    {
     "data": {
      "text/plain": [
       "pandas.core.series.Series"
      ]
     },
     "execution_count": 11,
     "metadata": {},
     "output_type": "execute_result"
    }
   ],
   "source": [
    "type(credit_card[\"employmentsince\"].mode())"
   ]
  },
  {
   "cell_type": "code",
   "execution_count": 12,
   "metadata": {},
   "outputs": [
    {
     "data": {
      "text/plain": [
       "Series([], Name: employmentsince, dtype: object)"
      ]
     },
     "execution_count": 12,
     "metadata": {},
     "output_type": "execute_result"
    }
   ],
   "source": [
    "credit_card.loc[credit_card.employmentsince.isnull(),\"employmentsince\"]"
   ]
  },
  {
   "cell_type": "code",
   "execution_count": 13,
   "metadata": {},
   "outputs": [],
   "source": [
    "### Missing Value Analysis"
   ]
  },
  {
   "cell_type": "code",
   "execution_count": 14,
   "metadata": {},
   "outputs": [
    {
     "data": {
      "text/plain": [
       "existingchecking          0\n",
       "duration                  0\n",
       "credithistory             0\n",
       "purpose                   0\n",
       "creditamount              0\n",
       "savings                   0\n",
       "employmentsince           0\n",
       "installmentrate           0\n",
       "statussex                 0\n",
       "otherdebtors              0\n",
       "residencesince            0\n",
       "property                  0\n",
       "age                       0\n",
       "otherinstallmentplans     0\n",
       "housing                   0\n",
       "existingcredits           0\n",
       "job                       0\n",
       "peopleliable              0\n",
       "telephone                 0\n",
       "foreignworker             0\n",
       "Defaulter_NonDefaulter    0\n",
       "dtype: int64"
      ]
     },
     "execution_count": 14,
     "metadata": {},
     "output_type": "execute_result"
    }
   ],
   "source": [
    "credit_card.isnull().sum()"
   ]
  },
  {
   "cell_type": "code",
   "execution_count": 15,
   "metadata": {},
   "outputs": [],
   "source": [
    "### Outlier Handling"
   ]
  },
  {
   "cell_type": "code",
   "execution_count": 16,
   "metadata": {
    "scrolled": false
   },
   "outputs": [
    {
     "data": {
      "image/png": "[encoded data removed]",
      "text/plain": [
       "<Figure size 720x360 with 3 Axes>"
      ]
     },
     "metadata": {
      "needs_background": "light"
     },
     "output_type": "display_data"
    }
   ],
   "source": [
    "# Boxplots for continuous attributes\n",
    "# nrows*ncols\n",
    "fig, axes = plt.subplots(nrows=1, ncols=3, figsize=(10,5))\n",
    "axes[0].boxplot(credit_card['creditamount'].dropna())\n",
    "axes[0].set_title('creditamount')\n",
    "axes[1].boxplot(credit_card['duration'].dropna())\n",
    "axes[1].set_title('duration')\n",
    "axes[2].boxplot(credit_card['age'].dropna())\n",
    "axes[2].set_title('age')\n",
    "\n",
    "fig.savefig(\"boxplots.png\")"
   ]
  },
  {
   "cell_type": "code",
   "execution_count": 17,
   "metadata": {
    "scrolled": true
   },
   "outputs": [
    {
     "data": {
      "text/plain": [
       "0    700\n",
       "1    300\n",
       "Name: Defaulter_NonDefaulter, dtype: int64"
      ]
     },
     "execution_count": 17,
     "metadata": {},
     "output_type": "execute_result"
    }
   ],
   "source": [
    "# Binarize the y output for easier use of e.g. ROC curves -> 0 = 'Good' credit; 1 = 'Bad' credit\n",
    "credit_card[\"Defaulter_NonDefaulter\"].replace([1,2], [0,1], inplace=True)\n",
    "# Print number of 'good' credits (should be 700) and 'bad credits (should be 300)\n",
    "credit_card[\"Defaulter_NonDefaulter\"].value_counts()\n"
   ]
  },
  {
   "cell_type": "code",
   "execution_count": 18,
   "metadata": {},
   "outputs": [
    {
     "data": {
      "image/png": "[encoded data removed]",
      "text/plain": [
       "<Figure size 1792.8x2527.2 with 20 Axes>"
      ]
     },
     "metadata": {
      "needs_background": "light"
     },
     "output_type": "display_data"
    }
   ],
   "source": [
    "# BarPlot for non-continuous attributes\n",
    "\n",
    "f, axes = plt.subplots(5, 4,figsize=(8.3*3,11.7*3))\n",
    "x=0\n",
    "y=0\n",
    "for column in credit_card.drop(['Defaulter_NonDefaulter',\n",
    "                                'creditamount','duration','age'], axis=1):\n",
    "    \n",
    "    sns.countplot(y=column, hue=\"Defaulter_NonDefaulter\", \n",
    "                  data=credit_card.drop(['creditamount','duration','age'],\n",
    "                                        axis=1), ax=axes[x,y])\n",
    "    y+=1\n",
    "    if y>3:\n",
    "        x+=1\n",
    "        y=0\n",
    "    if x>4:\n",
    "        break\n",
    "f.savefig(\"./barplot.png\")"
   ]
  },
  {
   "cell_type": "code",
   "execution_count": 19,
   "metadata": {},
   "outputs": [],
   "source": [
    "#create quick access list with categorical variables labels\n",
    "\n",
    "catvars = ['existingchecking', 'credithistory', 'purpose', 'savings', \n",
    "           'employmentsince','statussex', 'otherdebtors', 'property', 'otherinstallmentplans', \n",
    "           'housing', 'job', 'telephone', 'foreignworker']\n",
    "\n",
    "#create quickaccess list with numerical variables labels\n",
    "\n",
    "numvars = ['creditamount', 'duration', 'installmentrate', 'residencesince', \n",
    "           'age', 'existingcredits', 'peopleliable']"
   ]
  },
  {
   "cell_type": "code",
   "execution_count": 20,
   "metadata": {},
   "outputs": [],
   "source": [
    "### Data Transformation"
   ]
  },
  {
   "cell_type": "code",
   "execution_count": 21,
   "metadata": {},
   "outputs": [],
   "source": [
    "### Seggregating the data into independent and depenedent variables\n",
    "\n",
    "X = credit_card.drop([\"Defaulter_NonDefaulter\"],axis = 1)\n",
    "y = credit_card[\"Defaulter_NonDefaulter\"]"
   ]
  },
  {
   "cell_type": "code",
   "execution_count": 22,
   "metadata": {},
   "outputs": [],
   "source": [
    "### How to handle the categorical Variable"
   ]
  },
  {
   "cell_type": "code",
   "execution_count": 23,
   "metadata": {},
   "outputs": [
    {
     "ename": "FileNotFoundError",
     "evalue": "No such file or directory: './one_hot_encoding.png'",
     "output_type": "error",
     "traceback": [
      "\u001b[1;31m---------------------------------------------------------------------------\u001b[0m",
      "\u001b[1;31mTypeError\u001b[0m                                 Traceback (most recent call last)",
      "\u001b[1;32m~\\Anaconda3\\lib\\site-packages\\IPython\\core\\display.py\u001b[0m in \u001b[0;36m_data_and_metadata\u001b[1;34m(self, always_both)\u001b[0m\n\u001b[0;32m   1264\u001b[0m         \u001b[1;32mtry\u001b[0m\u001b[1;33m:\u001b[0m\u001b[1;33m\u001b[0m\u001b[1;33m\u001b[0m\u001b[0m\n\u001b[1;32m-> 1265\u001b[1;33m             \u001b[0mb64_data\u001b[0m \u001b[1;33m=\u001b[0m \u001b[0mb2a_base64\u001b[0m\u001b[1;33m(\u001b[0m\u001b[0mself\u001b[0m\u001b[1;33m.\u001b[0m\u001b[0mdata\u001b[0m\u001b[1;33m)\u001b[0m\u001b[1;33m.\u001b[0m\u001b[0mdecode\u001b[0m\u001b[1;33m(\u001b[0m\u001b[1;34m'ascii'\u001b[0m\u001b[1;33m)\u001b[0m\u001b[1;33m\u001b[0m\u001b[1;33m\u001b[0m\u001b[0m\n\u001b[0m\u001b[0;32m   1266\u001b[0m         \u001b[1;32mexcept\u001b[0m \u001b[0mTypeError\u001b[0m\u001b[1;33m:\u001b[0m\u001b[1;33m\u001b[0m\u001b[1;33m\u001b[0m\u001b[0m\n",
      "\u001b[1;31mTypeError\u001b[0m: a bytes-like object is required, not 'str'",
      "\nDuring handling of the above exception, another exception occurred:\n",
      "\u001b[1;31mFileNotFoundError\u001b[0m                         Traceback (most recent call last)",
      "\u001b[1;32m~\\Anaconda3\\lib\\site-packages\\IPython\\core\\formatters.py\u001b[0m in \u001b[0;36m__call__\u001b[1;34m(self, obj, include, exclude)\u001b[0m\n\u001b[0;32m    968\u001b[0m \u001b[1;33m\u001b[0m\u001b[0m\n\u001b[0;32m    969\u001b[0m             \u001b[1;32mif\u001b[0m \u001b[0mmethod\u001b[0m \u001b[1;32mis\u001b[0m \u001b[1;32mnot\u001b[0m \u001b[1;32mNone\u001b[0m\u001b[1;33m:\u001b[0m\u001b[1;33m\u001b[0m\u001b[1;33m\u001b[0m\u001b[0m\n\u001b[1;32m--> 970\u001b[1;33m                 \u001b[1;32mreturn\u001b[0m \u001b[0mmethod\u001b[0m\u001b[1;33m(\u001b[0m\u001b[0minclude\u001b[0m\u001b[1;33m=\u001b[0m\u001b[0minclude\u001b[0m\u001b[1;33m,\u001b[0m \u001b[0mexclude\u001b[0m\u001b[1;33m=\u001b[0m\u001b[0mexclude\u001b[0m\u001b[1;33m)\u001b[0m\u001b[1;33m\u001b[0m\u001b[1;33m\u001b[0m\u001b[0m\n\u001b[0m\u001b[0;32m    971\u001b[0m             \u001b[1;32mreturn\u001b[0m \u001b[1;32mNone\u001b[0m\u001b[1;33m\u001b[0m\u001b[1;33m\u001b[0m\u001b[0m\n\u001b[0;32m    972\u001b[0m         \u001b[1;32melse\u001b[0m\u001b[1;33m:\u001b[0m\u001b[1;33m\u001b[0m\u001b[1;33m\u001b[0m\u001b[0m\n",
      "\u001b[1;32m~\\Anaconda3\\lib\\site-packages\\IPython\\core\\display.py\u001b[0m in \u001b[0;36m_repr_mimebundle_\u001b[1;34m(self, include, exclude)\u001b[0m\n\u001b[0;32m   1253\u001b[0m         \u001b[1;32mif\u001b[0m \u001b[0mself\u001b[0m\u001b[1;33m.\u001b[0m\u001b[0membed\u001b[0m\u001b[1;33m:\u001b[0m\u001b[1;33m\u001b[0m\u001b[1;33m\u001b[0m\u001b[0m\n\u001b[0;32m   1254\u001b[0m             \u001b[0mmimetype\u001b[0m \u001b[1;33m=\u001b[0m \u001b[0mself\u001b[0m\u001b[1;33m.\u001b[0m\u001b[0m_mimetype\u001b[0m\u001b[1;33m\u001b[0m\u001b[1;33m\u001b[0m\u001b[0m\n\u001b[1;32m-> 1255\u001b[1;33m             \u001b[0mdata\u001b[0m\u001b[1;33m,\u001b[0m \u001b[0mmetadata\u001b[0m \u001b[1;33m=\u001b[0m \u001b[0mself\u001b[0m\u001b[1;33m.\u001b[0m\u001b[0m_data_and_metadata\u001b[0m\u001b[1;33m(\u001b[0m\u001b[0malways_both\u001b[0m\u001b[1;33m=\u001b[0m\u001b[1;32mTrue\u001b[0m\u001b[1;33m)\u001b[0m\u001b[1;33m\u001b[0m\u001b[1;33m\u001b[0m\u001b[0m\n\u001b[0m\u001b[0;32m   1256\u001b[0m             \u001b[1;32mif\u001b[0m \u001b[0mmetadata\u001b[0m\u001b[1;33m:\u001b[0m\u001b[1;33m\u001b[0m\u001b[1;33m\u001b[0m\u001b[0m\n\u001b[0;32m   1257\u001b[0m                 \u001b[0mmetadata\u001b[0m \u001b[1;33m=\u001b[0m \u001b[1;33m{\u001b[0m\u001b[0mmimetype\u001b[0m\u001b[1;33m:\u001b[0m \u001b[0mmetadata\u001b[0m\u001b[1;33m}\u001b[0m\u001b[1;33m\u001b[0m\u001b[1;33m\u001b[0m\u001b[0m\n",
      "\u001b[1;32m~\\Anaconda3\\lib\\site-packages\\IPython\\core\\display.py\u001b[0m in \u001b[0;36m_data_and_metadata\u001b[1;34m(self, always_both)\u001b[0m\n\u001b[0;32m   1266\u001b[0m         \u001b[1;32mexcept\u001b[0m \u001b[0mTypeError\u001b[0m\u001b[1;33m:\u001b[0m\u001b[1;33m\u001b[0m\u001b[1;33m\u001b[0m\u001b[0m\n\u001b[0;32m   1267\u001b[0m             raise FileNotFoundError(\n\u001b[1;32m-> 1268\u001b[1;33m                 \"No such file or directory: '%s'\" % (self.data))\n\u001b[0m\u001b[0;32m   1269\u001b[0m         \u001b[0mmd\u001b[0m \u001b[1;33m=\u001b[0m \u001b[1;33m{\u001b[0m\u001b[1;33m}\u001b[0m\u001b[1;33m\u001b[0m\u001b[1;33m\u001b[0m\u001b[0m\n\u001b[0;32m   1270\u001b[0m         \u001b[1;32mif\u001b[0m \u001b[0mself\u001b[0m\u001b[1;33m.\u001b[0m\u001b[0mmetadata\u001b[0m\u001b[1;33m:\u001b[0m\u001b[1;33m\u001b[0m\u001b[1;33m\u001b[0m\u001b[0m\n",
      "\u001b[1;31mFileNotFoundError\u001b[0m: No such file or directory: './one_hot_encoding.png'"
     ]
    },
    {
     "ename": "FileNotFoundError",
     "evalue": "No such file or directory: './one_hot_encoding.png'",
     "output_type": "error",
     "traceback": [
      "\u001b[1;31m---------------------------------------------------------------------------\u001b[0m",
      "\u001b[1;31mTypeError\u001b[0m                                 Traceback (most recent call last)",
      "\u001b[1;32m~\\Anaconda3\\lib\\site-packages\\IPython\\core\\display.py\u001b[0m in \u001b[0;36m_data_and_metadata\u001b[1;34m(self, always_both)\u001b[0m\n\u001b[0;32m   1264\u001b[0m         \u001b[1;32mtry\u001b[0m\u001b[1;33m:\u001b[0m\u001b[1;33m\u001b[0m\u001b[1;33m\u001b[0m\u001b[0m\n\u001b[1;32m-> 1265\u001b[1;33m             \u001b[0mb64_data\u001b[0m \u001b[1;33m=\u001b[0m \u001b[0mb2a_base64\u001b[0m\u001b[1;33m(\u001b[0m\u001b[0mself\u001b[0m\u001b[1;33m.\u001b[0m\u001b[0mdata\u001b[0m\u001b[1;33m)\u001b[0m\u001b[1;33m.\u001b[0m\u001b[0mdecode\u001b[0m\u001b[1;33m(\u001b[0m\u001b[1;34m'ascii'\u001b[0m\u001b[1;33m)\u001b[0m\u001b[1;33m\u001b[0m\u001b[1;33m\u001b[0m\u001b[0m\n\u001b[0m\u001b[0;32m   1266\u001b[0m         \u001b[1;32mexcept\u001b[0m \u001b[0mTypeError\u001b[0m\u001b[1;33m:\u001b[0m\u001b[1;33m\u001b[0m\u001b[1;33m\u001b[0m\u001b[0m\n",
      "\u001b[1;31mTypeError\u001b[0m: a bytes-like object is required, not 'str'",
      "\nDuring handling of the above exception, another exception occurred:\n",
      "\u001b[1;31mFileNotFoundError\u001b[0m                         Traceback (most recent call last)",
      "\u001b[1;32m~\\Anaconda3\\lib\\site-packages\\IPython\\core\\formatters.py\u001b[0m in \u001b[0;36m__call__\u001b[1;34m(self, obj)\u001b[0m\n\u001b[0;32m    343\u001b[0m             \u001b[0mmethod\u001b[0m \u001b[1;33m=\u001b[0m \u001b[0mget_real_method\u001b[0m\u001b[1;33m(\u001b[0m\u001b[0mobj\u001b[0m\u001b[1;33m,\u001b[0m \u001b[0mself\u001b[0m\u001b[1;33m.\u001b[0m\u001b[0mprint_method\u001b[0m\u001b[1;33m)\u001b[0m\u001b[1;33m\u001b[0m\u001b[1;33m\u001b[0m\u001b[0m\n\u001b[0;32m    344\u001b[0m             \u001b[1;32mif\u001b[0m \u001b[0mmethod\u001b[0m \u001b[1;32mis\u001b[0m \u001b[1;32mnot\u001b[0m \u001b[1;32mNone\u001b[0m\u001b[1;33m:\u001b[0m\u001b[1;33m\u001b[0m\u001b[1;33m\u001b[0m\u001b[0m\n\u001b[1;32m--> 345\u001b[1;33m                 \u001b[1;32mreturn\u001b[0m \u001b[0mmethod\u001b[0m\u001b[1;33m(\u001b[0m\u001b[1;33m)\u001b[0m\u001b[1;33m\u001b[0m\u001b[1;33m\u001b[0m\u001b[0m\n\u001b[0m\u001b[0;32m    346\u001b[0m             \u001b[1;32mreturn\u001b[0m \u001b[1;32mNone\u001b[0m\u001b[1;33m\u001b[0m\u001b[1;33m\u001b[0m\u001b[0m\n\u001b[0;32m    347\u001b[0m         \u001b[1;32melse\u001b[0m\u001b[1;33m:\u001b[0m\u001b[1;33m\u001b[0m\u001b[1;33m\u001b[0m\u001b[0m\n",
      "\u001b[1;32m~\\Anaconda3\\lib\\site-packages\\IPython\\core\\display.py\u001b[0m in \u001b[0;36m_repr_png_\u001b[1;34m(self)\u001b[0m\n\u001b[0;32m   1283\u001b[0m     \u001b[1;32mdef\u001b[0m \u001b[0m_repr_png_\u001b[0m\u001b[1;33m(\u001b[0m\u001b[0mself\u001b[0m\u001b[1;33m)\u001b[0m\u001b[1;33m:\u001b[0m\u001b[1;33m\u001b[0m\u001b[1;33m\u001b[0m\u001b[0m\n\u001b[0;32m   1284\u001b[0m         \u001b[1;32mif\u001b[0m \u001b[0mself\u001b[0m\u001b[1;33m.\u001b[0m\u001b[0membed\u001b[0m \u001b[1;32mand\u001b[0m \u001b[0mself\u001b[0m\u001b[1;33m.\u001b[0m\u001b[0mformat\u001b[0m \u001b[1;33m==\u001b[0m \u001b[0mself\u001b[0m\u001b[1;33m.\u001b[0m\u001b[0m_FMT_PNG\u001b[0m\u001b[1;33m:\u001b[0m\u001b[1;33m\u001b[0m\u001b[1;33m\u001b[0m\u001b[0m\n\u001b[1;32m-> 1285\u001b[1;33m             \u001b[1;32mreturn\u001b[0m \u001b[0mself\u001b[0m\u001b[1;33m.\u001b[0m\u001b[0m_data_and_metadata\u001b[0m\u001b[1;33m(\u001b[0m\u001b[1;33m)\u001b[0m\u001b[1;33m\u001b[0m\u001b[1;33m\u001b[0m\u001b[0m\n\u001b[0m\u001b[0;32m   1286\u001b[0m \u001b[1;33m\u001b[0m\u001b[0m\n\u001b[0;32m   1287\u001b[0m     \u001b[1;32mdef\u001b[0m \u001b[0m_repr_jpeg_\u001b[0m\u001b[1;33m(\u001b[0m\u001b[0mself\u001b[0m\u001b[1;33m)\u001b[0m\u001b[1;33m:\u001b[0m\u001b[1;33m\u001b[0m\u001b[1;33m\u001b[0m\u001b[0m\n",
      "\u001b[1;32m~\\Anaconda3\\lib\\site-packages\\IPython\\core\\display.py\u001b[0m in \u001b[0;36m_data_and_metadata\u001b[1;34m(self, always_both)\u001b[0m\n\u001b[0;32m   1266\u001b[0m         \u001b[1;32mexcept\u001b[0m \u001b[0mTypeError\u001b[0m\u001b[1;33m:\u001b[0m\u001b[1;33m\u001b[0m\u001b[1;33m\u001b[0m\u001b[0m\n\u001b[0;32m   1267\u001b[0m             raise FileNotFoundError(\n\u001b[1;32m-> 1268\u001b[1;33m                 \"No such file or directory: '%s'\" % (self.data))\n\u001b[0m\u001b[0;32m   1269\u001b[0m         \u001b[0mmd\u001b[0m \u001b[1;33m=\u001b[0m \u001b[1;33m{\u001b[0m\u001b[1;33m}\u001b[0m\u001b[1;33m\u001b[0m\u001b[1;33m\u001b[0m\u001b[0m\n\u001b[0;32m   1270\u001b[0m         \u001b[1;32mif\u001b[0m \u001b[0mself\u001b[0m\u001b[1;33m.\u001b[0m\u001b[0mmetadata\u001b[0m\u001b[1;33m:\u001b[0m\u001b[1;33m\u001b[0m\u001b[1;33m\u001b[0m\u001b[0m\n",
      "\u001b[1;31mFileNotFoundError\u001b[0m: No such file or directory: './one_hot_encoding.png'"
     ]
    },
    {
     "data": {
      "text/plain": [
       "<IPython.core.display.Image object>"
      ]
     },
     "execution_count": 23,
     "metadata": {},
     "output_type": "execute_result"
    }
   ],
   "source": [
    "from IPython.display import Image \n",
    "Image(\"./one_hot_encoding.png\")"
   ]
  },
  {
   "cell_type": "code",
   "execution_count": 24,
   "metadata": {},
   "outputs": [],
   "source": [
    "# One hot encoding\n",
    "#create dummy variables for every category of every categorical variable\n",
    "X_dumm = pd.get_dummies(X,columns= catvars,drop_first=True)"
   ]
  },
  {
   "cell_type": "code",
   "execution_count": 25,
   "metadata": {
    "scrolled": false
   },
   "outputs": [
    {
     "data": {
      "text/plain": [
       "Index(['duration', 'creditamount', 'installmentrate', 'residencesince', 'age',\n",
       "       'existingcredits', 'peopleliable', 'existingchecking_A12',\n",
       "       'existingchecking_A13', 'existingchecking_A14', 'credithistory_A31',\n",
       "       'credithistory_A32', 'credithistory_A33', 'credithistory_A34',\n",
       "       'purpose_A41', 'purpose_A410', 'purpose_A42', 'purpose_A43',\n",
       "       'purpose_A44', 'purpose_A45', 'purpose_A46', 'purpose_A48',\n",
       "       'purpose_A49', 'savings_A62', 'savings_A63', 'savings_A64',\n",
       "       'savings_A65', 'employmentsince_A72', 'employmentsince_A73',\n",
       "       'employmentsince_A74', 'employmentsince_A75', 'statussex_A92',\n",
       "       'statussex_A93', 'statussex_A94', 'otherdebtors_A102',\n",
       "       'otherdebtors_A103', 'property_A122', 'property_A123', 'property_A124',\n",
       "       'otherinstallmentplans_A142', 'otherinstallmentplans_A143',\n",
       "       'housing_A152', 'housing_A153', 'job_A172', 'job_A173', 'job_A174',\n",
       "       'telephone_A192', 'foreignworker_A202'],\n",
       "      dtype='object')"
      ]
     },
     "execution_count": 25,
     "metadata": {},
     "output_type": "execute_result"
    }
   ],
   "source": [
    "X_dumm.columns"
   ]
  },
  {
   "cell_type": "code",
   "execution_count": 26,
   "metadata": {},
   "outputs": [],
   "source": [
    "# Split dataset into training set and test set\n",
    "\n",
    "X_train, X_test, y_train, y_test = train_test_split(X_dumm, y, test_size=0.20) # 80% training and 20% test"
   ]
  },
  {
   "cell_type": "code",
   "execution_count": 27,
   "metadata": {},
   "outputs": [],
   "source": [
    "#### How to handle numerical variable"
   ]
  },
  {
   "cell_type": "code",
   "execution_count": 28,
   "metadata": {},
   "outputs": [
    {
     "name": "stdout",
     "output_type": "stream",
     "text": [
      "Standardization done\n"
     ]
    }
   ],
   "source": [
    "# Standardization\n",
    "scaler = StandardScaler()\n",
    "\n",
    "X_train_standardized = scaler.fit_transform(X_train[numvars])\n",
    "X_test_standardized = scaler.transform(X_test[numvars])\n",
    "\n",
    "X_train_standardized = pd.DataFrame(X_train_standardized)\n",
    "X_test_standardized = pd.DataFrame(X_test_standardized)\n",
    "\n",
    "print(\"Standardization done\")"
   ]
  },
  {
   "cell_type": "code",
   "execution_count": 29,
   "metadata": {},
   "outputs": [
    {
     "data": {
      "text/html": [
       "<div>\n",
       "<style scoped>\n",
       "    .dataframe tbody tr th:only-of-type {\n",
       "        vertical-align: middle;\n",
       "    }\n",
       "\n",
       "    .dataframe tbody tr th {\n",
       "        vertical-align: top;\n",
       "    }\n",
       "\n",
       "    .dataframe thead th {\n",
       "        text-align: right;\n",
       "    }\n",
       "</style>\n",
       "<table border=\"1\" class=\"dataframe\">\n",
       "  <thead>\n",
       "    <tr style=\"text-align: right;\">\n",
       "      <th></th>\n",
       "      <th>0</th>\n",
       "      <th>1</th>\n",
       "      <th>2</th>\n",
       "      <th>3</th>\n",
       "      <th>4</th>\n",
       "      <th>5</th>\n",
       "      <th>6</th>\n",
       "    </tr>\n",
       "  </thead>\n",
       "  <tbody>\n",
       "    <tr>\n",
       "      <th>0</th>\n",
       "      <td>-0.903206</td>\n",
       "      <td>-0.753137</td>\n",
       "      <td>-0.853816</td>\n",
       "      <td>0.139562</td>\n",
       "      <td>0.238348</td>\n",
       "      <td>-0.675955</td>\n",
       "      <td>2.357409</td>\n",
       "    </tr>\n",
       "    <tr>\n",
       "      <th>1</th>\n",
       "      <td>-0.693375</td>\n",
       "      <td>-0.916840</td>\n",
       "      <td>0.931943</td>\n",
       "      <td>1.039960</td>\n",
       "      <td>-0.736310</td>\n",
       "      <td>-0.675955</td>\n",
       "      <td>-0.424195</td>\n",
       "    </tr>\n",
       "    <tr>\n",
       "      <th>2</th>\n",
       "      <td>-0.885400</td>\n",
       "      <td>-0.753137</td>\n",
       "      <td>0.931943</td>\n",
       "      <td>-0.760837</td>\n",
       "      <td>-0.824915</td>\n",
       "      <td>-0.675955</td>\n",
       "      <td>-0.424195</td>\n",
       "    </tr>\n",
       "    <tr>\n",
       "      <th>3</th>\n",
       "      <td>-0.104382</td>\n",
       "      <td>0.229082</td>\n",
       "      <td>-0.853816</td>\n",
       "      <td>1.039960</td>\n",
       "      <td>-1.356547</td>\n",
       "      <td>-0.675955</td>\n",
       "      <td>-0.424195</td>\n",
       "    </tr>\n",
       "    <tr>\n",
       "      <th>4</th>\n",
       "      <td>-0.696168</td>\n",
       "      <td>-0.262027</td>\n",
       "      <td>0.931943</td>\n",
       "      <td>-0.760837</td>\n",
       "      <td>-0.293284</td>\n",
       "      <td>-0.675955</td>\n",
       "      <td>-0.424195</td>\n",
       "    </tr>\n",
       "  </tbody>\n",
       "</table>\n",
       "</div>"
      ],
      "text/plain": [
       "          0         1         2         3         4         5         6\n",
       "0 -0.903206 -0.753137 -0.853816  0.139562  0.238348 -0.675955  2.357409\n",
       "1 -0.693375 -0.916840  0.931943  1.039960 -0.736310 -0.675955 -0.424195\n",
       "2 -0.885400 -0.753137  0.931943 -0.760837 -0.824915 -0.675955 -0.424195\n",
       "3 -0.104382  0.229082 -0.853816  1.039960 -1.356547 -0.675955 -0.424195\n",
       "4 -0.696168 -0.262027  0.931943 -0.760837 -0.293284 -0.675955 -0.424195"
      ]
     },
     "execution_count": 29,
     "metadata": {},
     "output_type": "execute_result"
    }
   ],
   "source": [
    "X_train_standardized.head()"
   ]
  },
  {
   "cell_type": "code",
   "execution_count": 30,
   "metadata": {},
   "outputs": [
    {
     "data": {
      "text/plain": [
       "\"\\n\\n\\n# MinMax Rescaling to [0,1]\\nnumdata_minmax = MinMaxScaler().fit_transform(credit_card[numvars].drop(['Defaulter_NonDefaulter'], axis=1))\\n\\nnumdata_minmax = pd.DataFrame(numdata_minmax)\\n\\n\""
      ]
     },
     "execution_count": 30,
     "metadata": {},
     "output_type": "execute_result"
    }
   ],
   "source": [
    "\n",
    "'''\n",
    "\n",
    "\n",
    "# MinMax Rescaling to [0,1]\n",
    "numdata_minmax = MinMaxScaler().fit_transform(credit_card[numvars].drop(['Defaulter_NonDefaulter'], axis=1))\n",
    "\n",
    "numdata_minmax = pd.DataFrame(numdata_minmax)\n",
    "\n",
    "'''"
   ]
  },
  {
   "cell_type": "code",
   "execution_count": 31,
   "metadata": {},
   "outputs": [],
   "source": [
    "X_train_standardized.columns = numvars\n",
    "X_test_standardized.columns = numvars"
   ]
  },
  {
   "cell_type": "code",
   "execution_count": 32,
   "metadata": {},
   "outputs": [
    {
     "data": {
      "text/html": [
       "<div>\n",
       "<style scoped>\n",
       "    .dataframe tbody tr th:only-of-type {\n",
       "        vertical-align: middle;\n",
       "    }\n",
       "\n",
       "    .dataframe tbody tr th {\n",
       "        vertical-align: top;\n",
       "    }\n",
       "\n",
       "    .dataframe thead th {\n",
       "        text-align: right;\n",
       "    }\n",
       "</style>\n",
       "<table border=\"1\" class=\"dataframe\">\n",
       "  <thead>\n",
       "    <tr style=\"text-align: right;\">\n",
       "      <th></th>\n",
       "      <th>creditamount</th>\n",
       "      <th>duration</th>\n",
       "      <th>installmentrate</th>\n",
       "      <th>residencesince</th>\n",
       "      <th>age</th>\n",
       "      <th>existingcredits</th>\n",
       "      <th>peopleliable</th>\n",
       "    </tr>\n",
       "  </thead>\n",
       "  <tbody>\n",
       "    <tr>\n",
       "      <th>0</th>\n",
       "      <td>-0.903206</td>\n",
       "      <td>-0.753137</td>\n",
       "      <td>-0.853816</td>\n",
       "      <td>0.139562</td>\n",
       "      <td>0.238348</td>\n",
       "      <td>-0.675955</td>\n",
       "      <td>2.357409</td>\n",
       "    </tr>\n",
       "    <tr>\n",
       "      <th>1</th>\n",
       "      <td>-0.693375</td>\n",
       "      <td>-0.916840</td>\n",
       "      <td>0.931943</td>\n",
       "      <td>1.039960</td>\n",
       "      <td>-0.736310</td>\n",
       "      <td>-0.675955</td>\n",
       "      <td>-0.424195</td>\n",
       "    </tr>\n",
       "    <tr>\n",
       "      <th>2</th>\n",
       "      <td>-0.885400</td>\n",
       "      <td>-0.753137</td>\n",
       "      <td>0.931943</td>\n",
       "      <td>-0.760837</td>\n",
       "      <td>-0.824915</td>\n",
       "      <td>-0.675955</td>\n",
       "      <td>-0.424195</td>\n",
       "    </tr>\n",
       "    <tr>\n",
       "      <th>3</th>\n",
       "      <td>-0.104382</td>\n",
       "      <td>0.229082</td>\n",
       "      <td>-0.853816</td>\n",
       "      <td>1.039960</td>\n",
       "      <td>-1.356547</td>\n",
       "      <td>-0.675955</td>\n",
       "      <td>-0.424195</td>\n",
       "    </tr>\n",
       "    <tr>\n",
       "      <th>4</th>\n",
       "      <td>-0.696168</td>\n",
       "      <td>-0.262027</td>\n",
       "      <td>0.931943</td>\n",
       "      <td>-0.760837</td>\n",
       "      <td>-0.293284</td>\n",
       "      <td>-0.675955</td>\n",
       "      <td>-0.424195</td>\n",
       "    </tr>\n",
       "  </tbody>\n",
       "</table>\n",
       "</div>"
      ],
      "text/plain": [
       "   creditamount  duration  installmentrate  residencesince       age  \\\n",
       "0     -0.903206 -0.753137        -0.853816        0.139562  0.238348   \n",
       "1     -0.693375 -0.916840         0.931943        1.039960 -0.736310   \n",
       "2     -0.885400 -0.753137         0.931943       -0.760837 -0.824915   \n",
       "3     -0.104382  0.229082        -0.853816        1.039960 -1.356547   \n",
       "4     -0.696168 -0.262027         0.931943       -0.760837 -0.293284   \n",
       "\n",
       "   existingcredits  peopleliable  \n",
       "0        -0.675955      2.357409  \n",
       "1        -0.675955     -0.424195  \n",
       "2        -0.675955     -0.424195  \n",
       "3        -0.675955     -0.424195  \n",
       "4        -0.675955     -0.424195  "
      ]
     },
     "execution_count": 32,
     "metadata": {},
     "output_type": "execute_result"
    }
   ],
   "source": [
    "X_train_standardized.head()"
   ]
  },
  {
   "cell_type": "code",
   "execution_count": 33,
   "metadata": {},
   "outputs": [
    {
     "data": {
      "text/html": [
       "<div>\n",
       "<style scoped>\n",
       "    .dataframe tbody tr th:only-of-type {\n",
       "        vertical-align: middle;\n",
       "    }\n",
       "\n",
       "    .dataframe tbody tr th {\n",
       "        vertical-align: top;\n",
       "    }\n",
       "\n",
       "    .dataframe thead th {\n",
       "        text-align: right;\n",
       "    }\n",
       "</style>\n",
       "<table border=\"1\" class=\"dataframe\">\n",
       "  <thead>\n",
       "    <tr style=\"text-align: right;\">\n",
       "      <th></th>\n",
       "      <th>duration</th>\n",
       "      <th>creditamount</th>\n",
       "      <th>installmentrate</th>\n",
       "      <th>residencesince</th>\n",
       "      <th>age</th>\n",
       "      <th>existingcredits</th>\n",
       "      <th>peopleliable</th>\n",
       "      <th>existingchecking_A12</th>\n",
       "      <th>existingchecking_A13</th>\n",
       "      <th>existingchecking_A14</th>\n",
       "      <th>...</th>\n",
       "      <th>property_A124</th>\n",
       "      <th>otherinstallmentplans_A142</th>\n",
       "      <th>otherinstallmentplans_A143</th>\n",
       "      <th>housing_A152</th>\n",
       "      <th>housing_A153</th>\n",
       "      <th>job_A172</th>\n",
       "      <th>job_A173</th>\n",
       "      <th>job_A174</th>\n",
       "      <th>telephone_A192</th>\n",
       "      <th>foreignworker_A202</th>\n",
       "    </tr>\n",
       "  </thead>\n",
       "  <tbody>\n",
       "    <tr>\n",
       "      <th>316</th>\n",
       "      <td>12</td>\n",
       "      <td>708.0</td>\n",
       "      <td>2</td>\n",
       "      <td>3</td>\n",
       "      <td>38.0</td>\n",
       "      <td>1</td>\n",
       "      <td>2</td>\n",
       "      <td>0</td>\n",
       "      <td>0</td>\n",
       "      <td>0</td>\n",
       "      <td>...</td>\n",
       "      <td>0</td>\n",
       "      <td>0</td>\n",
       "      <td>1</td>\n",
       "      <td>1</td>\n",
       "      <td>0</td>\n",
       "      <td>1</td>\n",
       "      <td>0</td>\n",
       "      <td>0</td>\n",
       "      <td>0</td>\n",
       "      <td>0</td>\n",
       "    </tr>\n",
       "    <tr>\n",
       "      <th>505</th>\n",
       "      <td>10</td>\n",
       "      <td>1309.0</td>\n",
       "      <td>4</td>\n",
       "      <td>4</td>\n",
       "      <td>27.0</td>\n",
       "      <td>1</td>\n",
       "      <td>1</td>\n",
       "      <td>0</td>\n",
       "      <td>0</td>\n",
       "      <td>1</td>\n",
       "      <td>...</td>\n",
       "      <td>0</td>\n",
       "      <td>0</td>\n",
       "      <td>1</td>\n",
       "      <td>1</td>\n",
       "      <td>0</td>\n",
       "      <td>1</td>\n",
       "      <td>0</td>\n",
       "      <td>0</td>\n",
       "      <td>0</td>\n",
       "      <td>0</td>\n",
       "    </tr>\n",
       "    <tr>\n",
       "      <th>510</th>\n",
       "      <td>12</td>\n",
       "      <td>759.0</td>\n",
       "      <td>4</td>\n",
       "      <td>2</td>\n",
       "      <td>26.0</td>\n",
       "      <td>1</td>\n",
       "      <td>1</td>\n",
       "      <td>0</td>\n",
       "      <td>0</td>\n",
       "      <td>0</td>\n",
       "      <td>...</td>\n",
       "      <td>0</td>\n",
       "      <td>0</td>\n",
       "      <td>1</td>\n",
       "      <td>1</td>\n",
       "      <td>0</td>\n",
       "      <td>0</td>\n",
       "      <td>1</td>\n",
       "      <td>0</td>\n",
       "      <td>0</td>\n",
       "      <td>0</td>\n",
       "    </tr>\n",
       "    <tr>\n",
       "      <th>495</th>\n",
       "      <td>24</td>\n",
       "      <td>2996.0</td>\n",
       "      <td>2</td>\n",
       "      <td>4</td>\n",
       "      <td>20.0</td>\n",
       "      <td>1</td>\n",
       "      <td>1</td>\n",
       "      <td>0</td>\n",
       "      <td>0</td>\n",
       "      <td>0</td>\n",
       "      <td>...</td>\n",
       "      <td>0</td>\n",
       "      <td>0</td>\n",
       "      <td>1</td>\n",
       "      <td>1</td>\n",
       "      <td>0</td>\n",
       "      <td>0</td>\n",
       "      <td>1</td>\n",
       "      <td>0</td>\n",
       "      <td>0</td>\n",
       "      <td>0</td>\n",
       "    </tr>\n",
       "    <tr>\n",
       "      <th>498</th>\n",
       "      <td>18</td>\n",
       "      <td>1301.0</td>\n",
       "      <td>4</td>\n",
       "      <td>2</td>\n",
       "      <td>32.0</td>\n",
       "      <td>1</td>\n",
       "      <td>1</td>\n",
       "      <td>1</td>\n",
       "      <td>0</td>\n",
       "      <td>0</td>\n",
       "      <td>...</td>\n",
       "      <td>0</td>\n",
       "      <td>0</td>\n",
       "      <td>1</td>\n",
       "      <td>1</td>\n",
       "      <td>0</td>\n",
       "      <td>1</td>\n",
       "      <td>0</td>\n",
       "      <td>0</td>\n",
       "      <td>0</td>\n",
       "      <td>0</td>\n",
       "    </tr>\n",
       "  </tbody>\n",
       "</table>\n",
       "<p>5 rows × 48 columns</p>\n",
       "</div>"
      ],
      "text/plain": [
       "     duration  creditamount  installmentrate  residencesince   age  \\\n",
       "316        12         708.0                2               3  38.0   \n",
       "505        10        1309.0                4               4  27.0   \n",
       "510        12         759.0                4               2  26.0   \n",
       "495        24        2996.0                2               4  20.0   \n",
       "498        18        1301.0                4               2  32.0   \n",
       "\n",
       "     existingcredits  peopleliable  existingchecking_A12  \\\n",
       "316                1             2                     0   \n",
       "505                1             1                     0   \n",
       "510                1             1                     0   \n",
       "495                1             1                     0   \n",
       "498                1             1                     1   \n",
       "\n",
       "     existingchecking_A13  existingchecking_A14  ...  property_A124  \\\n",
       "316                     0                     0  ...              0   \n",
       "505                     0                     1  ...              0   \n",
       "510                     0                     0  ...              0   \n",
       "495                     0                     0  ...              0   \n",
       "498                     0                     0  ...              0   \n",
       "\n",
       "     otherinstallmentplans_A142  otherinstallmentplans_A143  housing_A152  \\\n",
       "316                           0                           1             1   \n",
       "505                           0                           1             1   \n",
       "510                           0                           1             1   \n",
       "495                           0                           1             1   \n",
       "498                           0                           1             1   \n",
       "\n",
       "     housing_A153  job_A172  job_A173  job_A174  telephone_A192  \\\n",
       "316             0         1         0         0               0   \n",
       "505             0         1         0         0               0   \n",
       "510             0         0         1         0               0   \n",
       "495             0         0         1         0               0   \n",
       "498             0         1         0         0               0   \n",
       "\n",
       "     foreignworker_A202  \n",
       "316                   0  \n",
       "505                   0  \n",
       "510                   0  \n",
       "495                   0  \n",
       "498                   0  \n",
       "\n",
       "[5 rows x 48 columns]"
      ]
     },
     "execution_count": 33,
     "metadata": {},
     "output_type": "execute_result"
    }
   ],
   "source": [
    "X_train.head()"
   ]
  },
  {
   "cell_type": "code",
   "execution_count": 34,
   "metadata": {},
   "outputs": [],
   "source": [
    "X_train_cat = X_train.drop(numvars,axis = 1)\n",
    "X_test_cat = X_test.drop(numvars,axis = 1)\n",
    "\n",
    "X_train_cat.reset_index(inplace=True,drop=True)\n",
    "X_test_cat.reset_index(inplace=True,drop=True)"
   ]
  },
  {
   "cell_type": "code",
   "execution_count": 35,
   "metadata": {},
   "outputs": [],
   "source": [
    "y_train.reset_index(inplace=True,drop=True)\n",
    "y_test.reset_index(inplace=True,drop=True)"
   ]
  },
  {
   "cell_type": "code",
   "execution_count": 36,
   "metadata": {},
   "outputs": [
    {
     "data": {
      "text/plain": [
       "pandas.core.series.Series"
      ]
     },
     "execution_count": 36,
     "metadata": {},
     "output_type": "execute_result"
    }
   ],
   "source": [
    "type(y_train)"
   ]
  },
  {
   "cell_type": "code",
   "execution_count": 37,
   "metadata": {},
   "outputs": [],
   "source": [
    "### Concating the  Transformed Variables"
   ]
  },
  {
   "cell_type": "code",
   "execution_count": 38,
   "metadata": {
    "scrolled": true
   },
   "outputs": [
    {
     "name": "stdout",
     "output_type": "stream",
     "text": [
      "(800, 48)\n",
      "(200, 48)\n"
     ]
    }
   ],
   "source": [
    "# Concatenating the transformed varaible and createting a datset with transformed varaible\n",
    "\n",
    "X_train_transformed = pd.concat([X_train_standardized,X_train_cat], axis = 1)\n",
    "\n",
    "X_test_tarnsformed = pd.concat([X_test_standardized,X_test_cat], axis = 1)\n",
    "\n",
    "print(X_train_transformed.shape)\n",
    "\n",
    "print(X_test_tarnsformed.shape)"
   ]
  },
  {
   "cell_type": "code",
   "execution_count": 39,
   "metadata": {
    "scrolled": true
   },
   "outputs": [
    {
     "data": {
      "text/plain": [
       "0    562\n",
       "1    238\n",
       "Name: Defaulter_NonDefaulter, dtype: int64"
      ]
     },
     "execution_count": 39,
     "metadata": {},
     "output_type": "execute_result"
    }
   ],
   "source": [
    "y_train.value_counts()"
   ]
  },
  {
   "cell_type": "code",
   "execution_count": 40,
   "metadata": {},
   "outputs": [],
   "source": [
    "# Oversampling\n",
    "# http://contrib.scikit-learn.org/imbalanced-learn/auto_examples/combine/plot_smote_enn.html#sphx-glr-auto-examples-combine-plot-smote-enn-py\n",
    "\n",
    "# Apply SMOTE\n",
    "sm = SMOTE(k_neighbors = 5,sampling_strategy=0.7)\n",
    "X_train_transformed_smot, y_train_smot = sm.fit_sample(X_train_transformed, \n",
    "                                                       y_train)"
   ]
  },
  {
   "cell_type": "code",
   "execution_count": 41,
   "metadata": {},
   "outputs": [
    {
     "data": {
      "text/plain": [
       "0    562\n",
       "1    393\n",
       "Name: Defaulter_NonDefaulter, dtype: int64"
      ]
     },
     "execution_count": 41,
     "metadata": {},
     "output_type": "execute_result"
    }
   ],
   "source": [
    "pd.Series(y_train_smot).value_counts()"
   ]
  },
  {
   "cell_type": "code",
   "execution_count": 42,
   "metadata": {
    "scrolled": false
   },
   "outputs": [
    {
     "data": {
      "text/html": [
       "<div>\n",
       "<style scoped>\n",
       "    .dataframe tbody tr th:only-of-type {\n",
       "        vertical-align: middle;\n",
       "    }\n",
       "\n",
       "    .dataframe tbody tr th {\n",
       "        vertical-align: top;\n",
       "    }\n",
       "\n",
       "    .dataframe thead th {\n",
       "        text-align: right;\n",
       "    }\n",
       "</style>\n",
       "<table border=\"1\" class=\"dataframe\">\n",
       "  <thead>\n",
       "    <tr style=\"text-align: right;\">\n",
       "      <th></th>\n",
       "      <th>creditamount</th>\n",
       "      <th>duration</th>\n",
       "      <th>installmentrate</th>\n",
       "      <th>residencesince</th>\n",
       "      <th>age</th>\n",
       "      <th>existingcredits</th>\n",
       "      <th>peopleliable</th>\n",
       "      <th>existingchecking_A12</th>\n",
       "      <th>existingchecking_A13</th>\n",
       "      <th>existingchecking_A14</th>\n",
       "      <th>...</th>\n",
       "      <th>property_A124</th>\n",
       "      <th>otherinstallmentplans_A142</th>\n",
       "      <th>otherinstallmentplans_A143</th>\n",
       "      <th>housing_A152</th>\n",
       "      <th>housing_A153</th>\n",
       "      <th>job_A172</th>\n",
       "      <th>job_A173</th>\n",
       "      <th>job_A174</th>\n",
       "      <th>telephone_A192</th>\n",
       "      <th>foreignworker_A202</th>\n",
       "    </tr>\n",
       "  </thead>\n",
       "  <tbody>\n",
       "    <tr>\n",
       "      <th>0</th>\n",
       "      <td>-0.903206</td>\n",
       "      <td>-0.753137</td>\n",
       "      <td>-0.853816</td>\n",
       "      <td>0.139562</td>\n",
       "      <td>0.238348</td>\n",
       "      <td>-0.675955</td>\n",
       "      <td>2.357409</td>\n",
       "      <td>0</td>\n",
       "      <td>0</td>\n",
       "      <td>0</td>\n",
       "      <td>...</td>\n",
       "      <td>0</td>\n",
       "      <td>0</td>\n",
       "      <td>1</td>\n",
       "      <td>1</td>\n",
       "      <td>0</td>\n",
       "      <td>1</td>\n",
       "      <td>0</td>\n",
       "      <td>0</td>\n",
       "      <td>0</td>\n",
       "      <td>0</td>\n",
       "    </tr>\n",
       "    <tr>\n",
       "      <th>1</th>\n",
       "      <td>-0.693375</td>\n",
       "      <td>-0.916840</td>\n",
       "      <td>0.931943</td>\n",
       "      <td>1.039960</td>\n",
       "      <td>-0.736310</td>\n",
       "      <td>-0.675955</td>\n",
       "      <td>-0.424195</td>\n",
       "      <td>0</td>\n",
       "      <td>0</td>\n",
       "      <td>1</td>\n",
       "      <td>...</td>\n",
       "      <td>0</td>\n",
       "      <td>0</td>\n",
       "      <td>1</td>\n",
       "      <td>1</td>\n",
       "      <td>0</td>\n",
       "      <td>1</td>\n",
       "      <td>0</td>\n",
       "      <td>0</td>\n",
       "      <td>0</td>\n",
       "      <td>0</td>\n",
       "    </tr>\n",
       "    <tr>\n",
       "      <th>2</th>\n",
       "      <td>-0.885400</td>\n",
       "      <td>-0.753137</td>\n",
       "      <td>0.931943</td>\n",
       "      <td>-0.760837</td>\n",
       "      <td>-0.824915</td>\n",
       "      <td>-0.675955</td>\n",
       "      <td>-0.424195</td>\n",
       "      <td>0</td>\n",
       "      <td>0</td>\n",
       "      <td>0</td>\n",
       "      <td>...</td>\n",
       "      <td>0</td>\n",
       "      <td>0</td>\n",
       "      <td>1</td>\n",
       "      <td>1</td>\n",
       "      <td>0</td>\n",
       "      <td>0</td>\n",
       "      <td>1</td>\n",
       "      <td>0</td>\n",
       "      <td>0</td>\n",
       "      <td>0</td>\n",
       "    </tr>\n",
       "    <tr>\n",
       "      <th>3</th>\n",
       "      <td>-0.104382</td>\n",
       "      <td>0.229082</td>\n",
       "      <td>-0.853816</td>\n",
       "      <td>1.039960</td>\n",
       "      <td>-1.356547</td>\n",
       "      <td>-0.675955</td>\n",
       "      <td>-0.424195</td>\n",
       "      <td>0</td>\n",
       "      <td>0</td>\n",
       "      <td>0</td>\n",
       "      <td>...</td>\n",
       "      <td>0</td>\n",
       "      <td>0</td>\n",
       "      <td>1</td>\n",
       "      <td>1</td>\n",
       "      <td>0</td>\n",
       "      <td>0</td>\n",
       "      <td>1</td>\n",
       "      <td>0</td>\n",
       "      <td>0</td>\n",
       "      <td>0</td>\n",
       "    </tr>\n",
       "    <tr>\n",
       "      <th>4</th>\n",
       "      <td>-0.696168</td>\n",
       "      <td>-0.262027</td>\n",
       "      <td>0.931943</td>\n",
       "      <td>-0.760837</td>\n",
       "      <td>-0.293284</td>\n",
       "      <td>-0.675955</td>\n",
       "      <td>-0.424195</td>\n",
       "      <td>1</td>\n",
       "      <td>0</td>\n",
       "      <td>0</td>\n",
       "      <td>...</td>\n",
       "      <td>0</td>\n",
       "      <td>0</td>\n",
       "      <td>1</td>\n",
       "      <td>1</td>\n",
       "      <td>0</td>\n",
       "      <td>1</td>\n",
       "      <td>0</td>\n",
       "      <td>0</td>\n",
       "      <td>0</td>\n",
       "      <td>0</td>\n",
       "    </tr>\n",
       "  </tbody>\n",
       "</table>\n",
       "<p>5 rows × 48 columns</p>\n",
       "</div>"
      ],
      "text/plain": [
       "   creditamount  duration  installmentrate  residencesince       age  \\\n",
       "0     -0.903206 -0.753137        -0.853816        0.139562  0.238348   \n",
       "1     -0.693375 -0.916840         0.931943        1.039960 -0.736310   \n",
       "2     -0.885400 -0.753137         0.931943       -0.760837 -0.824915   \n",
       "3     -0.104382  0.229082        -0.853816        1.039960 -1.356547   \n",
       "4     -0.696168 -0.262027         0.931943       -0.760837 -0.293284   \n",
       "\n",
       "   existingcredits  peopleliable  existingchecking_A12  existingchecking_A13  \\\n",
       "0        -0.675955      2.357409                     0                     0   \n",
       "1        -0.675955     -0.424195                     0                     0   \n",
       "2        -0.675955     -0.424195                     0                     0   \n",
       "3        -0.675955     -0.424195                     0                     0   \n",
       "4        -0.675955     -0.424195                     1                     0   \n",
       "\n",
       "   existingchecking_A14  ...  property_A124  otherinstallmentplans_A142  \\\n",
       "0                     0  ...              0                           0   \n",
       "1                     1  ...              0                           0   \n",
       "2                     0  ...              0                           0   \n",
       "3                     0  ...              0                           0   \n",
       "4                     0  ...              0                           0   \n",
       "\n",
       "   otherinstallmentplans_A143  housing_A152  housing_A153  job_A172  job_A173  \\\n",
       "0                           1             1             0         1         0   \n",
       "1                           1             1             0         1         0   \n",
       "2                           1             1             0         0         1   \n",
       "3                           1             1             0         0         1   \n",
       "4                           1             1             0         1         0   \n",
       "\n",
       "   job_A174  telephone_A192  foreignworker_A202  \n",
       "0         0               0                   0  \n",
       "1         0               0                   0  \n",
       "2         0               0                   0  \n",
       "3         0               0                   0  \n",
       "4         0               0                   0  \n",
       "\n",
       "[5 rows x 48 columns]"
      ]
     },
     "execution_count": 42,
     "metadata": {},
     "output_type": "execute_result"
    }
   ],
   "source": [
    "X_train_transformed_smot.head()"
   ]
  },
  {
   "cell_type": "code",
   "execution_count": 43,
   "metadata": {},
   "outputs": [
    {
     "data": {
      "text/plain": [
       "'1.0.3'"
      ]
     },
     "execution_count": 43,
     "metadata": {},
     "output_type": "execute_result"
    }
   ],
   "source": [
    "pd.__version__"
   ]
  },
  {
   "cell_type": "code",
   "execution_count": 44,
   "metadata": {},
   "outputs": [],
   "source": [
    "X_train_transformed_smot = pd.DataFrame(X_train_transformed_smot)"
   ]
  },
  {
   "cell_type": "code",
   "execution_count": 45,
   "metadata": {},
   "outputs": [],
   "source": [
    "X_train_transformed_smot.columns = X_train_transformed.columns"
   ]
  },
  {
   "cell_type": "code",
   "execution_count": 46,
   "metadata": {},
   "outputs": [],
   "source": [
    "y_train_smot = pd.Series(y_train_smot)"
   ]
  },
  {
   "cell_type": "code",
   "execution_count": 47,
   "metadata": {
    "scrolled": true
   },
   "outputs": [
    {
     "data": {
      "text/plain": [
       "0    562\n",
       "1    393\n",
       "Name: Defaulter_NonDefaulter, dtype: int64"
      ]
     },
     "execution_count": 47,
     "metadata": {},
     "output_type": "execute_result"
    }
   ],
   "source": [
    "y_train_smot.value_counts()"
   ]
  },
  {
   "cell_type": "code",
   "execution_count": 48,
   "metadata": {},
   "outputs": [],
   "source": [
    "### Function to get evalaution metrics"
   ]
  },
  {
   "cell_type": "code",
   "execution_count": 49,
   "metadata": {},
   "outputs": [],
   "source": [
    "# Function for evaluation reports\n",
    "def get_eval(clf, X_train, y_train,y_test,y_pred):\n",
    "    # Cross Validation to test and anticipate overfitting problem\n",
    "    scores1 = cross_val_score(clf, X_train, y_train, cv=10, scoring='accuracy')\n",
    "    scores2 = cross_val_score(clf, X_train, y_train, cv=10, scoring='precision')\n",
    "    scores3 = cross_val_score(clf, X_train, y_train, cv=10, scoring='roc_auc')\n",
    "    # The mean score and standard deviation of the score estimate\n",
    "    print(\"Cross Validation Accuracy: %0.2f (+/- %0.2f)\" % (scores1.mean(), scores1.std()))\n",
    "    print(\"Cross Validation Precision: %0.2f (+/- %0.2f)\" % (scores2.mean(), scores2.std()))\n",
    "    print(\"Cross Validation roc_auc: %0.2f (+/- %0.2f)\" % (scores3.mean(), scores3.std()))\n",
    "    # Create and print confusion matrix\n",
    "    abclf_cm = confusion_matrix(y_test,y_pred)\n",
    "    print(abclf_cm)\n",
    "    return"
   ]
  },
  {
   "cell_type": "code",
   "execution_count": 50,
   "metadata": {},
   "outputs": [],
   "source": [
    "### Function to get RoC Curve"
   ]
  },
  {
   "cell_type": "code",
   "execution_count": 51,
   "metadata": {},
   "outputs": [],
   "source": [
    "# Function to get roc curve\n",
    "def get_roc (y_test,y_pred):\n",
    "    # Compute ROC curve and ROC area for each class\n",
    "    fpr = dict()\n",
    "    tpr = dict()\n",
    "    roc_auc = dict()\n",
    "    fpr, tpr, _ = roc_curve(y_test, y_pred)\n",
    "    roc_auc = auc(fpr, tpr)\n",
    "    #Plot of a ROC curve\n",
    "    plt.figure()\n",
    "    lw = 2\n",
    "    plt.plot(fpr, tpr, color='darkorange',\n",
    "             label='ROC curve (area = %0.2f)' % roc_auc)\n",
    "    plt.plot([0, 1], [0, 1], color='navy', lw=lw, linestyle='--')\n",
    "    plt.xlim([0.0, 1.0])\n",
    "    plt.ylim([0.0, 1.0])\n",
    "    plt.xlabel('False Positive Rate')\n",
    "    plt.ylabel('True Positive Rate')\n",
    "    plt.title('Receiver operating characteristic')\n",
    "    plt.legend(loc=\"lower right\")\n",
    "    plt.show()\n",
    "    return"
   ]
  },
  {
   "cell_type": "code",
   "execution_count": 52,
   "metadata": {},
   "outputs": [],
   "source": [
    "### Decision Tree Classifier"
   ]
  },
  {
   "cell_type": "code",
   "execution_count": 53,
   "metadata": {},
   "outputs": [],
   "source": [
    "# fit, train and cross validate Decision Tree with training and test data \n",
    "def dectreeclf(X_train, y_train,X_test, y_test):\n",
    "    start = time.time()\n",
    "\n",
    "    print(\"DecisionTreeClassifier\")\n",
    "    dec_tree = tree.DecisionTreeClassifier(min_samples_split=10,min_samples_leaf=5).fit(X_train, y_train)\n",
    "\n",
    "    # Predict target variables y for test data\n",
    "    y_pred = dec_tree.predict(X_test)\n",
    "\n",
    "    # Export visualization as file\n",
    "    #visualize_tree(dec_tree,X_train,y_train)\n",
    "    \n",
    "    # Get Cross Validation and Confusion matrix\n",
    "    get_eval(dec_tree, X_train, y_train,y_test,y_pred)\n",
    "        \n",
    "    end = time.time()\n",
    "    training_time = end-start\n",
    "    print(\"Time taken: \", training_time)\n",
    "    return\n",
    "\n",
    "# Visualize tree and save as .pdf\n",
    "# Only works for dataframes, not for numpy arrays"
   ]
  },
  {
   "cell_type": "code",
   "execution_count": 54,
   "metadata": {},
   "outputs": [],
   "source": [
    "# Random Forest Classifier"
   ]
  },
  {
   "cell_type": "code",
   "execution_count": 55,
   "metadata": {},
   "outputs": [],
   "source": [
    "# fit, train and cross validate Decision Tree with training and test data \n",
    "def randomforestclf(X_train, y_train,X_test, y_test):\n",
    "    print(\"RandomForestClassifier\")\n",
    "    randomforest = RandomForestClassifier().fit(X_train, y_train)\n",
    "\n",
    "    # Predict target variables y for test data\n",
    "    y_pred = randomforest.predict(X_test)\n",
    "\n",
    "    # Get Cross Validation and Confusion matrix\n",
    "    get_eval(randomforest, X_train, y_train,y_test,y_pred)\n",
    "    return"
   ]
  },
  {
   "cell_type": "code",
   "execution_count": 56,
   "metadata": {},
   "outputs": [],
   "source": [
    "### Logistic regression"
   ]
  },
  {
   "cell_type": "code",
   "execution_count": 57,
   "metadata": {},
   "outputs": [],
   "source": [
    "# fit, train and cross validate Decision Tree with training and test data \n",
    "def logregclf(X_train, y_train,X_test, y_test):\n",
    "    print(\"LogisticRegression\")\n",
    "    logreg = LogisticRegression().fit(X_train, y_train)\n",
    "\n",
    "    # Predict target variables y for test data\n",
    "    y_pred = logreg.predict(X_test)\n",
    "\n",
    "    # Get Cross Validation and Confusion matrix\n",
    "    get_eval(logreg, X_train, y_train,y_test,y_pred)\n",
    "    return"
   ]
  },
  {
   "cell_type": "code",
   "execution_count": 58,
   "metadata": {},
   "outputs": [],
   "source": [
    "### K Neighbors Classifier"
   ]
  },
  {
   "cell_type": "code",
   "execution_count": 59,
   "metadata": {},
   "outputs": [],
   "source": [
    "def knnclf(X_train, y_train, X_test, y_test):  \n",
    "    print(\"KNeighborsClassifier\")\n",
    "    knn = KNeighborsClassifier(n_neighbors=3).fit(X_train, y_train)\n",
    "\n",
    "    # Predict target variables y for test data\n",
    "    y_pred = knn.predict(X_test)\n",
    "\n",
    "    # Get Cross Validation and Confusion matrix\n",
    "    get_eval(knn, X_train, y_train,y_test,y_pred)\n",
    "    return"
   ]
  },
  {
   "cell_type": "code",
   "execution_count": 60,
   "metadata": {
    "scrolled": true
   },
   "outputs": [
    {
     "name": "stdout",
     "output_type": "stream",
     "text": [
      "clean resampled\n",
      "DecisionTreeClassifier\n",
      "Cross Validation Accuracy: 0.71 (+/- 0.07)\n",
      "Cross Validation Precision: 0.64 (+/- 0.09)\n",
      "Cross Validation roc_auc: 0.76 (+/- 0.09)\n",
      "[[110  28]\n",
      " [ 33  29]]\n",
      "Time taken:  0.5010991096496582\n"
     ]
    }
   ],
   "source": [
    "# Decisiontree\n",
    "# Train, test and evaluate the classifiers with different preprocessed data\n",
    "print(\"clean resampled\")\n",
    "dectreeclf(X_train_transformed_smot, y_train_smot,X_test_tarnsformed,y_test)"
   ]
  },
  {
   "cell_type": "code",
   "execution_count": 61,
   "metadata": {},
   "outputs": [
    {
     "name": "stdout",
     "output_type": "stream",
     "text": [
      "clean resampled\n",
      "LogisticRegression\n",
      "Cross Validation Accuracy: 0.79 (+/- 0.09)\n",
      "Cross Validation Precision: 0.76 (+/- 0.08)\n",
      "Cross Validation roc_auc: 0.88 (+/- 0.09)\n",
      "[[118  20]\n",
      " [ 34  28]]\n"
     ]
    }
   ],
   "source": [
    "# Logistic Regression\n",
    "print(\"clean resampled\")\n",
    "logregclf(X_train_transformed_smot, y_train_smot,X_test_tarnsformed,y_test)"
   ]
  },
  {
   "cell_type": "code",
   "execution_count": 62,
   "metadata": {},
   "outputs": [
    {
     "name": "stdout",
     "output_type": "stream",
     "text": [
      "clean resampled\n",
      "KNeighborsClassifier\n",
      "Cross Validation Accuracy: 0.77 (+/- 0.06)\n",
      "Cross Validation Precision: 0.68 (+/- 0.05)\n",
      "Cross Validation roc_auc: 0.85 (+/- 0.08)\n",
      "[[103  35]\n",
      " [ 34  28]]\n"
     ]
    }
   ],
   "source": [
    "# KNN Classifier\n",
    "print(\"clean resampled\")\n",
    "knnclf(X_train_transformed_smot, y_train_smot,X_test_tarnsformed,y_test)"
   ]
  },
  {
   "cell_type": "code",
   "execution_count": 63,
   "metadata": {},
   "outputs": [
    {
     "name": "stdout",
     "output_type": "stream",
     "text": [
      "clean resampled\n",
      "RandomForestClassifier\n",
      "Cross Validation Accuracy: 0.81 (+/- 0.08)\n",
      "Cross Validation Precision: 0.80 (+/- 0.06)\n",
      "Cross Validation roc_auc: 0.89 (+/- 0.08)\n",
      "[[126  12]\n",
      " [ 37  25]]\n"
     ]
    }
   ],
   "source": [
    "# Random Forest classifier\n",
    "print(\"clean resampled\")\n",
    "randomforestclf(X_train_transformed_smot, y_train_smot,X_test_tarnsformed,y_test)"
   ]
  },
  {
   "cell_type": "code",
   "execution_count": 64,
   "metadata": {
    "scrolled": true
   },
   "outputs": [
    {
     "name": "stdout",
     "output_type": "stream",
     "text": [
      "Num Features: 10\n",
      "Selected Features: [False False False False False False False False  True  True False  True\n",
      "  True  True  True False False False False False False  True False False\n",
      " False  True False False False False False False False False False  True\n",
      " False False False False False False False False False False False  True]\n",
      "Feature Ranking: [24 15 22 33 32 38 34  2  1  1 37  1  1  1  1 10  5  4 16 18 39  1  9 26\n",
      " 25  1  3 21 20 13 19  8  6  7 17  1 36 31 35 27 12 11 14 30 29 28 23  1]\n"
     ]
    }
   ],
   "source": [
    "# Recursive feature elimination (RFE)\n",
    "# Use clean data, as logistic regression should be robust do different feature scales\n",
    "rfe = RFE(LogisticRegression(), 10)\n",
    "fit = rfe.fit(X_train_transformed_smot, y_train_smot)\n",
    "print(\"Num Features: %d\" % fit.n_features_)\n",
    "print(\"Selected Features: %s\" % fit.support_)\n",
    "print(\"Feature Ranking: %s\" % fit.ranking_)"
   ]
  },
  {
   "cell_type": "code",
   "execution_count": 65,
   "metadata": {},
   "outputs": [],
   "source": [
    "\n",
    "# Apply fitted transformation to datasets\n",
    "RFEX_train = rfe.transform(X_train_transformed_smot)\n",
    "RFEX_test = rfe.transform(X_test_tarnsformed)\n",
    "RFEy_train = y_train_smot\n",
    "RFEy_test = y_test"
   ]
  },
  {
   "cell_type": "code",
   "execution_count": 66,
   "metadata": {},
   "outputs": [
    {
     "data": {
      "text/plain": [
       "array([0., 0., 1., 0., 0., 0., 0., 0., 1., 0.])"
      ]
     },
     "execution_count": 66,
     "metadata": {},
     "output_type": "execute_result"
    }
   ],
   "source": [
    "RFEX_train[0]"
   ]
  },
  {
   "cell_type": "code",
   "execution_count": 67,
   "metadata": {},
   "outputs": [],
   "source": [
    "imp_cols = fit.ranking_"
   ]
  },
  {
   "cell_type": "code",
   "execution_count": 68,
   "metadata": {},
   "outputs": [
    {
     "data": {
      "text/plain": [
       "array([24, 15, 22, 33, 32, 38, 34,  2,  1,  1, 37,  1,  1,  1,  1, 10,  5,\n",
       "        4, 16, 18, 39,  1,  9, 26, 25,  1,  3, 21, 20, 13, 19,  8,  6,  7,\n",
       "       17,  1, 36, 31, 35, 27, 12, 11, 14, 30, 29, 28, 23,  1])"
      ]
     },
     "execution_count": 68,
     "metadata": {},
     "output_type": "execute_result"
    }
   ],
   "source": [
    "imp_cols"
   ]
  },
  {
   "cell_type": "code",
   "execution_count": 69,
   "metadata": {},
   "outputs": [],
   "source": [
    "imp_cols = list(imp_cols)"
   ]
  },
  {
   "cell_type": "code",
   "execution_count": 70,
   "metadata": {},
   "outputs": [],
   "source": [
    "imp_var_ind = []\n",
    "for i in range(len(imp_cols)):\n",
    "    if imp_cols[i] == 1:\n",
    "        imp_var_ind.append(i) "
   ]
  },
  {
   "cell_type": "code",
   "execution_count": 71,
   "metadata": {},
   "outputs": [
    {
     "data": {
      "text/plain": [
       "[8, 9, 11, 12, 13, 14, 21, 25, 35, 47]"
      ]
     },
     "execution_count": 71,
     "metadata": {},
     "output_type": "execute_result"
    }
   ],
   "source": [
    "imp_var_ind"
   ]
  },
  {
   "cell_type": "code",
   "execution_count": 72,
   "metadata": {},
   "outputs": [],
   "source": [
    "var_list = X_train_transformed_smot.columns.to_list()"
   ]
  },
  {
   "cell_type": "code",
   "execution_count": 73,
   "metadata": {},
   "outputs": [
    {
     "data": {
      "text/plain": [
       "['existingchecking_A13',\n",
       " 'existingchecking_A14',\n",
       " 'credithistory_A32',\n",
       " 'credithistory_A33',\n",
       " 'credithistory_A34',\n",
       " 'purpose_A41',\n",
       " 'purpose_A48',\n",
       " 'savings_A64',\n",
       " 'otherdebtors_A103',\n",
       " 'foreignworker_A202']"
      ]
     },
     "execution_count": 73,
     "metadata": {},
     "output_type": "execute_result"
    }
   ],
   "source": [
    "var_name = []\n",
    "for i in imp_var_ind:\n",
    "    var_name.append(var_list[i])\n",
    "    \n",
    "var_name"
   ]
  }
 ],
 "metadata": {
  "kernelspec": {
   "display_name": "Python 3",
   "language": "python",
   "name": "python3"
  },
  "language_info": {
   "codemirror_mode": {
    "name": "ipython",
    "version": 3
   },
   "file_extension": ".py",
   "mimetype": "text/x-python",
   "name": "python",
   "nbconvert_exporter": "python",
   "pygments_lexer": "ipython3",
   "version": "3.7.4"
  }
 },
 "nbformat": 4,
 "nbformat_minor": 2
}
